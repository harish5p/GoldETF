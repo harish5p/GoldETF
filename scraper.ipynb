{
  "nbformat": 4,
  "nbformat_minor": 0,
  "metadata": {
    "colab": {
      "name": "Untitled4.ipynb",
      "provenance": [],
      "collapsed_sections": [],
      "authorship_tag": "ABX9TyPTJelXTTW7drC4FZW4cTYF",
      "include_colab_link": true
    },
    "kernelspec": {
      "name": "ir",
      "display_name": "R"
    },
    "language_info": {
      "name": "R"
    }
  },
  "cells": [
    {
      "cell_type": "markdown",
      "metadata": {
        "id": "view-in-github",
        "colab_type": "text"
      },
      "source": [
        "<a href=\"https://colab.research.google.com/github/harish5p/GoldETF/blob/main/scraper.ipynb\" target=\"_parent\"><img src=\"https://colab.research.google.com/assets/colab-badge.svg\" alt=\"Open In Colab\"/></a>"
      ]
    },
    {
      "cell_type": "code",
      "metadata": {
        "colab": {
          "base_uri": "https://localhost:8080/"
        },
        "id": "m-7aJA4fT_fF",
        "outputId": "91913963-4c65-43da-fcf9-09c1194152c7"
      },
      "source": [
        "\n",
        "#install packages\n",
        "install.packages(\"rvest\")\n",
        "install.packages(\"readr\")\n"
      ],
      "execution_count": 30,
      "outputs": [
        {
          "output_type": "stream",
          "text": [
            "Installing package into ‘/usr/local/lib/R/site-library’\n",
            "(as ‘lib’ is unspecified)\n",
            "\n",
            "Installing package into ‘/usr/local/lib/R/site-library’\n",
            "(as ‘lib’ is unspecified)\n",
            "\n"
          ],
          "name": "stderr"
        }
      ]
    },
    {
      "cell_type": "code",
      "metadata": {
        "id": "EM0Pm7jnUION"
      },
      "source": [
        "#load the packages\n",
        "library(rvest)\n",
        "library(readr)"
      ],
      "execution_count": 31,
      "outputs": []
    },
    {
      "cell_type": "code",
      "metadata": {
        "id": "hqz1D42TUMyq",
        "colab": {
          "base_uri": "https://localhost:8080/",
          "height": 34
        },
        "outputId": "9c42012b-d8f4-4552-8cc0-197d18edb5f3"
      },
      "source": [
        "# https://www.dataquest.io/blog/web-scraping-in-r-rvest/\n",
        "# Start by reading a HTML page with read_html():\n",
        "html <- read_html(\"https://www.firstbridgedata.com/deepdive/index/SGOL\")\n",
        "\n",
        "aberdeen <-html %>% html_nodes(\"tr\") %>% .[[25]] %>% html_text\n",
        "aberdeen\n",
        "\n",
        "#get the  value\n",
        "num <- parse_number(clone)\n",
        "# convert to data frame\n",
        "num <- as.data.frame(num)\n",
        "\n",
        " # https://www.geeksforgeeks.org/concatenation-of-elements-without-separator-in-r-programming-paste0-function/\n",
        "write_csv(num, paste0(Sys.Date(),\"-aberdeen.csv\"))"
      ],
      "execution_count": 38,
      "outputs": [
        {
          "output_type": "display_data",
          "data": {
            "text/plain": [
              "[1] \"Asset Under Management\\n            2414.17 Million (USD)\\n        \""
            ],
            "text/latex": "'Asset Under Management\\textbackslash{}n            2414.17 Million (USD)\\textbackslash{}n        '",
            "text/markdown": "<span style=white-space:pre-wrap>'Asset Under Management\\n            2414.17 Million (USD)\\n        '</span>",
            "text/html": [
              "<span style=white-space:pre-wrap>'Asset Under Management\\n            2414.17 Million (USD)\\n        '</span>"
            ]
          },
          "metadata": {
            "tags": []
          }
        }
      ]
    }
  ]
}